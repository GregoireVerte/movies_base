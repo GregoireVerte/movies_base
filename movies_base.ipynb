{
 "cells": [
  {
   "cell_type": "code",
   "execution_count": 1,
   "id": "89de3712-9479-42fc-b6e5-fd7b8d063310",
   "metadata": {},
   "outputs": [],
   "source": [
    "import matplotlib.pyplot as plt\n",
    "import numpy as np\n",
    "import pandas as pd\n",
    "\n",
    "movies_df = pd.read_csv(\"tmdb_movies.csv\")"
   ]
  },
  {
   "cell_type": "code",
   "execution_count": 3,
   "id": "93971b19-4b41-49e5-b649-1e8c433087c4",
   "metadata": {},
   "outputs": [],
   "source": [
    "q3_vote_count = movies_df[\"vote_count\"].quantile(0.75)"
   ]
  },
  {
   "cell_type": "code",
   "execution_count": 5,
   "id": "91a0a290-5a70-4637-808f-a710d5c3a284",
   "metadata": {},
   "outputs": [],
   "source": [
    "filtered_movies = movies_df[movies_df[\"vote_count\"] > q3_vote_count]"
   ]
  },
  {
   "cell_type": "code",
   "execution_count": 7,
   "id": "3e50b4f1-2adf-42e7-b74c-7a886d64a391",
   "metadata": {},
   "outputs": [],
   "source": [
    "top_movies = filtered_movies.sort_values(by=\"vote_average\", ascending=False)"
   ]
  },
  {
   "cell_type": "code",
   "execution_count": 11,
   "id": "2efef53b-573b-4d46-8a21-4b32919cc248",
   "metadata": {},
   "outputs": [],
   "source": [
    "top_ten_movies = top_movies.head(10)"
   ]
  },
  {
   "cell_type": "code",
   "execution_count": 15,
   "id": "e73368ad-fe36-4b64-acaa-295c18e2d957",
   "metadata": {},
   "outputs": [
    {
     "name": "stdout",
     "output_type": "stream",
     "text": [
      "                         title  vote_average  vote_count release_date\n",
      "1881  The Shawshank Redemption           8.5        8205   1994-09-23\n",
      "3337             The Godfather           8.4        5893   1972-03-14\n",
      "2294             Spirited Away           8.3        3840   2001-07-20\n",
      "3865                  Whiplash           8.3        4254   2014-10-10\n",
      "2731    The Godfather: Part II           8.3        3338   1974-12-20\n",
      "3232              Pulp Fiction           8.3        8428   1994-10-08\n",
      "1818          Schindler's List           8.3        4329   1993-11-29\n",
      "662                 Fight Club           8.3        9413   1999-10-15\n",
      "2170                    Psycho           8.2        2320   1960-06-16\n",
      "1847                GoodFellas           8.2        3128   1990-09-12\n"
     ]
    }
   ],
   "source": [
    "print(top_ten_movies[[\"title\", \"vote_average\", \"vote_count\",\"release_date\"]])"
   ]
  },
  {
   "cell_type": "code",
   "execution_count": null,
   "id": "7258acdb-7572-4b22-84b9-f9423656f834",
   "metadata": {},
   "outputs": [],
   "source": []
  }
 ],
 "metadata": {
  "kernelspec": {
   "display_name": "Python 3 (ipykernel)",
   "language": "python",
   "name": "python3"
  },
  "language_info": {
   "codemirror_mode": {
    "name": "ipython",
    "version": 3
   },
   "file_extension": ".py",
   "mimetype": "text/x-python",
   "name": "python",
   "nbconvert_exporter": "python",
   "pygments_lexer": "ipython3",
   "version": "3.12.7"
  }
 },
 "nbformat": 4,
 "nbformat_minor": 5
}
